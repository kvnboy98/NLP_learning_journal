{
  "cells": [
    {
      "cell_type": "markdown",
      "metadata": {
        "id": "YMp0xKbFLrZo"
      },
      "source": [
        "### INSTALL LIBRARY"
      ]
    },
    {
      "cell_type": "code",
      "execution_count": null,
      "metadata": {
        "colab": {
          "base_uri": "https://localhost:8080/"
        },
        "id": "AXblx57ALo8Q",
        "outputId": "d0242631-0018-411b-ca95-0650420da767"
      },
      "outputs": [
        {
          "output_type": "stream",
          "name": "stdout",
          "text": [
            "Looking in indexes: https://pypi.org/simple, https://us-python.pkg.dev/colab-wheels/public/simple/\n",
            "Requirement already satisfied: spacy in /usr/local/lib/python3.7/dist-packages (2.2.4)\n",
            "Requirement already satisfied: tqdm<5.0.0,>=4.38.0 in /usr/local/lib/python3.7/dist-packages (from spacy) (4.64.0)\n",
            "Requirement already satisfied: numpy>=1.15.0 in /usr/local/lib/python3.7/dist-packages (from spacy) (1.21.6)\n",
            "Requirement already satisfied: murmurhash<1.1.0,>=0.28.0 in /usr/local/lib/python3.7/dist-packages (from spacy) (1.0.7)\n",
            "Requirement already satisfied: thinc==7.4.0 in /usr/local/lib/python3.7/dist-packages (from spacy) (7.4.0)\n",
            "Requirement already satisfied: requests<3.0.0,>=2.13.0 in /usr/local/lib/python3.7/dist-packages (from spacy) (2.23.0)\n",
            "Requirement already satisfied: srsly<1.1.0,>=1.0.2 in /usr/local/lib/python3.7/dist-packages (from spacy) (1.0.5)\n",
            "Requirement already satisfied: plac<1.2.0,>=0.9.6 in /usr/local/lib/python3.7/dist-packages (from spacy) (1.1.3)\n",
            "Requirement already satisfied: wasabi<1.1.0,>=0.4.0 in /usr/local/lib/python3.7/dist-packages (from spacy) (0.9.1)\n",
            "Requirement already satisfied: blis<0.5.0,>=0.4.0 in /usr/local/lib/python3.7/dist-packages (from spacy) (0.4.1)\n",
            "Requirement already satisfied: setuptools in /usr/local/lib/python3.7/dist-packages (from spacy) (57.4.0)\n",
            "Requirement already satisfied: cymem<2.1.0,>=2.0.2 in /usr/local/lib/python3.7/dist-packages (from spacy) (2.0.6)\n",
            "Requirement already satisfied: preshed<3.1.0,>=3.0.2 in /usr/local/lib/python3.7/dist-packages (from spacy) (3.0.6)\n",
            "Requirement already satisfied: catalogue<1.1.0,>=0.0.7 in /usr/local/lib/python3.7/dist-packages (from spacy) (1.0.0)\n",
            "Requirement already satisfied: importlib-metadata>=0.20 in /usr/local/lib/python3.7/dist-packages (from catalogue<1.1.0,>=0.0.7->spacy) (4.11.4)\n",
            "Requirement already satisfied: typing-extensions>=3.6.4 in /usr/local/lib/python3.7/dist-packages (from importlib-metadata>=0.20->catalogue<1.1.0,>=0.0.7->spacy) (4.2.0)\n",
            "Requirement already satisfied: zipp>=0.5 in /usr/local/lib/python3.7/dist-packages (from importlib-metadata>=0.20->catalogue<1.1.0,>=0.0.7->spacy) (3.8.0)\n",
            "Requirement already satisfied: certifi>=2017.4.17 in /usr/local/lib/python3.7/dist-packages (from requests<3.0.0,>=2.13.0->spacy) (2022.5.18.1)\n",
            "Requirement already satisfied: idna<3,>=2.5 in /usr/local/lib/python3.7/dist-packages (from requests<3.0.0,>=2.13.0->spacy) (2.10)\n",
            "Requirement already satisfied: urllib3!=1.25.0,!=1.25.1,<1.26,>=1.21.1 in /usr/local/lib/python3.7/dist-packages (from requests<3.0.0,>=2.13.0->spacy) (1.24.3)\n",
            "Requirement already satisfied: chardet<4,>=3.0.2 in /usr/local/lib/python3.7/dist-packages (from requests<3.0.0,>=2.13.0->spacy) (3.0.4)\n"
          ]
        }
      ],
      "source": [
        "!pip install spacy "
      ]
    },
    {
      "cell_type": "code",
      "execution_count": null,
      "metadata": {
        "colab": {
          "base_uri": "https://localhost:8080/",
          "height": 36
        },
        "id": "7MmWTMpBM_fv",
        "outputId": "f4c4f188-e913-440f-f8af-74626ae5db84"
      },
      "outputs": [
        {
          "output_type": "execute_result",
          "data": {
            "text/plain": [
              "'2.2.4'"
            ],
            "application/vnd.google.colaboratory.intrinsic+json": {
              "type": "string"
            }
          },
          "metadata": {},
          "execution_count": 2
        }
      ],
      "source": [
        "import spacy\n",
        "spacy.__version__"
      ]
    },
    {
      "cell_type": "code",
      "execution_count": null,
      "metadata": {
        "colab": {
          "base_uri": "https://localhost:8080/"
        },
        "id": "kjyKxqDQZXxk",
        "outputId": "2e28a969-0cfa-4bb4-ff58-e1a97ed1f811"
      },
      "outputs": [
        {
          "output_type": "stream",
          "name": "stdout",
          "text": [
            "Looking in indexes: https://pypi.org/simple, https://us-python.pkg.dev/colab-wheels/public/simple/\n",
            "Collecting en_core_web_sm==2.2.5\n",
            "  Downloading https://github.com/explosion/spacy-models/releases/download/en_core_web_sm-2.2.5/en_core_web_sm-2.2.5.tar.gz (12.0 MB)\n",
            "\u001b[K     |████████████████████████████████| 12.0 MB 5.3 MB/s \n",
            "\u001b[?25hRequirement already satisfied: spacy>=2.2.2 in /usr/local/lib/python3.7/dist-packages (from en_core_web_sm==2.2.5) (2.2.4)\n",
            "Requirement already satisfied: thinc==7.4.0 in /usr/local/lib/python3.7/dist-packages (from spacy>=2.2.2->en_core_web_sm==2.2.5) (7.4.0)\n",
            "Requirement already satisfied: plac<1.2.0,>=0.9.6 in /usr/local/lib/python3.7/dist-packages (from spacy>=2.2.2->en_core_web_sm==2.2.5) (1.1.3)\n",
            "Requirement already satisfied: tqdm<5.0.0,>=4.38.0 in /usr/local/lib/python3.7/dist-packages (from spacy>=2.2.2->en_core_web_sm==2.2.5) (4.64.0)\n",
            "Requirement already satisfied: numpy>=1.15.0 in /usr/local/lib/python3.7/dist-packages (from spacy>=2.2.2->en_core_web_sm==2.2.5) (1.21.6)\n",
            "Requirement already satisfied: murmurhash<1.1.0,>=0.28.0 in /usr/local/lib/python3.7/dist-packages (from spacy>=2.2.2->en_core_web_sm==2.2.5) (1.0.7)\n",
            "Requirement already satisfied: wasabi<1.1.0,>=0.4.0 in /usr/local/lib/python3.7/dist-packages (from spacy>=2.2.2->en_core_web_sm==2.2.5) (0.9.1)\n",
            "Requirement already satisfied: srsly<1.1.0,>=1.0.2 in /usr/local/lib/python3.7/dist-packages (from spacy>=2.2.2->en_core_web_sm==2.2.5) (1.0.5)\n",
            "Requirement already satisfied: setuptools in /usr/local/lib/python3.7/dist-packages (from spacy>=2.2.2->en_core_web_sm==2.2.5) (57.4.0)\n",
            "Requirement already satisfied: cymem<2.1.0,>=2.0.2 in /usr/local/lib/python3.7/dist-packages (from spacy>=2.2.2->en_core_web_sm==2.2.5) (2.0.6)\n",
            "Requirement already satisfied: requests<3.0.0,>=2.13.0 in /usr/local/lib/python3.7/dist-packages (from spacy>=2.2.2->en_core_web_sm==2.2.5) (2.23.0)\n",
            "Requirement already satisfied: preshed<3.1.0,>=3.0.2 in /usr/local/lib/python3.7/dist-packages (from spacy>=2.2.2->en_core_web_sm==2.2.5) (3.0.6)\n",
            "Requirement already satisfied: catalogue<1.1.0,>=0.0.7 in /usr/local/lib/python3.7/dist-packages (from spacy>=2.2.2->en_core_web_sm==2.2.5) (1.0.0)\n",
            "Requirement already satisfied: blis<0.5.0,>=0.4.0 in /usr/local/lib/python3.7/dist-packages (from spacy>=2.2.2->en_core_web_sm==2.2.5) (0.4.1)\n",
            "Requirement already satisfied: importlib-metadata>=0.20 in /usr/local/lib/python3.7/dist-packages (from catalogue<1.1.0,>=0.0.7->spacy>=2.2.2->en_core_web_sm==2.2.5) (4.11.4)\n",
            "Requirement already satisfied: zipp>=0.5 in /usr/local/lib/python3.7/dist-packages (from importlib-metadata>=0.20->catalogue<1.1.0,>=0.0.7->spacy>=2.2.2->en_core_web_sm==2.2.5) (3.8.0)\n",
            "Requirement already satisfied: typing-extensions>=3.6.4 in /usr/local/lib/python3.7/dist-packages (from importlib-metadata>=0.20->catalogue<1.1.0,>=0.0.7->spacy>=2.2.2->en_core_web_sm==2.2.5) (4.2.0)\n",
            "Requirement already satisfied: certifi>=2017.4.17 in /usr/local/lib/python3.7/dist-packages (from requests<3.0.0,>=2.13.0->spacy>=2.2.2->en_core_web_sm==2.2.5) (2022.5.18.1)\n",
            "Requirement already satisfied: urllib3!=1.25.0,!=1.25.1,<1.26,>=1.21.1 in /usr/local/lib/python3.7/dist-packages (from requests<3.0.0,>=2.13.0->spacy>=2.2.2->en_core_web_sm==2.2.5) (1.24.3)\n",
            "Requirement already satisfied: chardet<4,>=3.0.2 in /usr/local/lib/python3.7/dist-packages (from requests<3.0.0,>=2.13.0->spacy>=2.2.2->en_core_web_sm==2.2.5) (3.0.4)\n",
            "Requirement already satisfied: idna<3,>=2.5 in /usr/local/lib/python3.7/dist-packages (from requests<3.0.0,>=2.13.0->spacy>=2.2.2->en_core_web_sm==2.2.5) (2.10)\n",
            "\u001b[38;5;2m✔ Download and installation successful\u001b[0m\n",
            "You can now load the model via spacy.load('en_core_web_sm')\n"
          ]
        }
      ],
      "source": [
        "!python -m spacy download en_core_web_sm"
      ]
    },
    {
      "cell_type": "markdown",
      "metadata": {
        "id": "Aw3Pg_PAZqYL"
      },
      "source": [
        "### POS (PART-OF-SPEECH)\n"
      ]
    },
    {
      "cell_type": "markdown",
      "metadata": {
        "id": "0wiyR0hVZyVx"
      },
      "source": [
        "kata benda, kata kerja, verb\n",
        "\n",
        "Tags: https://ashutoshtripathi.com/2020/04/13/parts-of-speech-tagging-and-dependency-parsing-using-spacy-nlp/"
      ]
    },
    {
      "cell_type": "code",
      "execution_count": null,
      "metadata": {
        "id": "uxN9MVfUZ3Kz"
      },
      "outputs": [],
      "source": [
        "import en_core_web_sm"
      ]
    },
    {
      "cell_type": "code",
      "execution_count": null,
      "metadata": {
        "id": "DPiYCF0faO03"
      },
      "outputs": [],
      "source": [
        "nlp =  spacy.load(\"en_core_web_sm\")"
      ]
    },
    {
      "cell_type": "code",
      "execution_count": null,
      "metadata": {
        "colab": {
          "base_uri": "https://localhost:8080/"
        },
        "id": "J1jPlyC_aVkE",
        "outputId": "9fcccadd-a8b5-469f-bf89-be40d010acf4"
      },
      "outputs": [
        {
          "output_type": "execute_result",
          "data": {
            "text/plain": [
              "<spacy.lang.en.English at 0x7fefd3f607d0>"
            ]
          },
          "metadata": {},
          "execution_count": 6
        }
      ],
      "source": [
        "nlp"
      ]
    },
    {
      "cell_type": "code",
      "execution_count": null,
      "metadata": {
        "id": "9bnnl3P2adpV"
      },
      "outputs": [],
      "source": [
        "document = nlp('i am learning natural language processing. the course is in london')"
      ]
    },
    {
      "cell_type": "code",
      "execution_count": null,
      "metadata": {
        "colab": {
          "base_uri": "https://localhost:8080/"
        },
        "id": "MVNTvTJlaox_",
        "outputId": "89adc2dc-9bea-42bb-da85-bcf94b304801"
      },
      "outputs": [
        {
          "output_type": "stream",
          "name": "stdout",
          "text": [
            "i PRON\n",
            "am AUX\n",
            "learning VERB\n",
            "natural ADJ\n",
            "language NOUN\n",
            "processing NOUN\n",
            ". PUNCT\n",
            "the DET\n",
            "course NOUN\n",
            "is AUX\n",
            "in ADP\n",
            "london PROPN\n"
          ]
        }
      ],
      "source": [
        "for token in document:\n",
        "  print(token.text, token.pos_)"
      ]
    },
    {
      "cell_type": "markdown",
      "metadata": {
        "id": "NgBwREtpqOA4"
      },
      "source": [
        "#### others"
      ]
    },
    {
      "cell_type": "markdown",
      "metadata": {
        "id": "DlBL5NwcqTn9"
      },
      "source": [
        "* lemma : kata dasar\n",
        "* pos : part of speech\n",
        "* tag : morfological information (future, past, present)\n",
        "* dep : syntatic dependency\n",
        "* shape : lowercase, uppercase\n",
        "* alpha : if its alphanumeric\n",
        "* stop : if its stopwords"
      ]
    },
    {
      "cell_type": "code",
      "execution_count": null,
      "metadata": {
        "colab": {
          "base_uri": "https://localhost:8080/"
        },
        "id": "LAluh96QvpgU",
        "outputId": "71722f22-795d-40d9-fd52-bb57d5c4b09d"
      },
      "outputs": [
        {
          "output_type": "stream",
          "name": "stdout",
          "text": [
            "i PRON PRP nsubj x True True\n",
            "am AUX VBP aux xx True True\n",
            "learning VERB VBG ROOT xxxx True False\n",
            "natural ADJ JJ amod xxxx True False\n",
            "language NOUN NN compound xxxx True False\n",
            "processing NOUN NN dobj xxxx True False\n",
            ". PUNCT . punct . False False\n",
            "the DET DT det xxx True True\n",
            "course NOUN NN nsubj xxxx True False\n",
            "is AUX VBZ ROOT xx True True\n",
            "in ADP IN prep xx True True\n",
            "london PROPN NNP pobj xxxx True False\n"
          ]
        }
      ],
      "source": [
        "for token in document:\n",
        "  print(token.text, token.pos_, token.tag_, token.dep_, token.shape_, token.is_alpha, token.is_stop)"
      ]
    },
    {
      "cell_type": "code",
      "execution_count": null,
      "metadata": {
        "colab": {
          "base_uri": "https://localhost:8080/"
        },
        "id": "wxed8KVU2Csr",
        "outputId": "eee9310e-f689-4772-f583-fc43d33c4ec4"
      },
      "outputs": [
        {
          "output_type": "stream",
          "name": "stdout",
          "text": [
            "learning\n"
          ]
        }
      ],
      "source": [
        "for token in document:\n",
        "  if token.pos_ == 'VERB':\n",
        "    print(token.text)"
      ]
    },
    {
      "cell_type": "code",
      "execution_count": null,
      "metadata": {
        "colab": {
          "base_uri": "https://localhost:8080/"
        },
        "id": "mSBRTVX72cai",
        "outputId": "66b13a0c-ecda-4dc4-96ae-a6c0eb47db64"
      },
      "outputs": [
        {
          "output_type": "stream",
          "name": "stdout",
          "text": [
            "london\n"
          ]
        }
      ],
      "source": [
        "for token in document:\n",
        "  if token.pos_ == 'PROPN':\n",
        "    print(token.text)"
      ]
    },
    {
      "cell_type": "markdown",
      "metadata": {
        "id": "Dcj-MNku2yCO"
      },
      "source": [
        "### LEMMATIZATION AND STEMMING\n",
        "* Lemmatization : mengubah suatu kata menjadi kata dasar dengan mengetahui konteks dari kata tersebut (stories -> story, leaves -> leaf)\n",
        "* Stemming : mengubah suatu kata menjadi kata dasar tanpa mengetahui konteks dari kata tersebut seperti memotong ujung kata-kata (stories -> stori, leaves -> leav)"
      ]
    },
    {
      "cell_type": "code",
      "execution_count": null,
      "metadata": {
        "colab": {
          "base_uri": "https://localhost:8080/"
        },
        "id": "4FYpPBsi3goY",
        "outputId": "4a6299ba-3cbe-4995-9a5c-aa1e35ea9dd7"
      },
      "outputs": [
        {
          "output_type": "stream",
          "name": "stdout",
          "text": [
            "i i\n",
            "am be\n",
            "learning learn\n",
            "natural natural\n",
            "language language\n",
            "processing processing\n",
            ". .\n",
            "the the\n",
            "course course\n",
            "is be\n",
            "in in\n",
            "london london\n"
          ]
        }
      ],
      "source": [
        "for token in document:\n",
        "  print(token.text, token.lemma_)"
      ]
    },
    {
      "cell_type": "code",
      "execution_count": null,
      "metadata": {
        "colab": {
          "base_uri": "https://localhost:8080/"
        },
        "id": "vxEFrtIL75BY",
        "outputId": "19d9ccbd-0ad9-4e83-91ed-d7ce45f2c7ab"
      },
      "outputs": [
        {
          "output_type": "execute_result",
          "data": {
            "text/plain": [
              "['watch', 'watch', 'watch', 'watch', 'watch']"
            ]
          },
          "metadata": {},
          "execution_count": 13
        }
      ],
      "source": [
        "doc = nlp('watch watches watching watched watchs')\n",
        "[token.lemma_ for token in doc]"
      ]
    },
    {
      "cell_type": "code",
      "execution_count": null,
      "metadata": {
        "id": "1YB1fHmlLeEJ"
      },
      "outputs": [],
      "source": [
        "import nltk"
      ]
    },
    {
      "cell_type": "code",
      "execution_count": null,
      "metadata": {
        "id": "bK-PGqRSLf9D"
      },
      "outputs": [],
      "source": [
        "stemmer = nltk.PorterStemmer()"
      ]
    },
    {
      "cell_type": "code",
      "execution_count": null,
      "metadata": {
        "colab": {
          "base_uri": "https://localhost:8080/",
          "height": 36
        },
        "id": "BWI9HPNTLoS8",
        "outputId": "285fb605-03e6-4fe8-a0c3-9bef5ebbf50a"
      },
      "outputs": [
        {
          "output_type": "execute_result",
          "data": {
            "text/plain": [
              "'watch'"
            ],
            "application/vnd.google.colaboratory.intrinsic+json": {
              "type": "string"
            }
          },
          "metadata": {},
          "execution_count": 16
        }
      ],
      "source": [
        "stemmer.stem('watching')"
      ]
    },
    {
      "cell_type": "code",
      "execution_count": null,
      "metadata": {
        "colab": {
          "base_uri": "https://localhost:8080/"
        },
        "id": "QNx-kF0TM1It",
        "outputId": "91c44beb-6980-4832-ca87-e7334dd54ff6"
      },
      "outputs": [
        {
          "output_type": "stream",
          "name": "stdout",
          "text": [
            "i i i\n",
            "am be am\n",
            "learning learn learn\n",
            "natural natural natur\n",
            "language language languag\n",
            "processing processing process\n",
            ". . .\n",
            "the the the\n",
            "course course cours\n",
            "is be is\n",
            "in in in\n",
            "london london london\n"
          ]
        }
      ],
      "source": [
        "for token in document:\n",
        "  print(token.text, token.lemma_, stemmer.stem(token.text))"
      ]
    },
    {
      "cell_type": "markdown",
      "metadata": {
        "id": "RUkUyGPWQ1hL"
      },
      "source": [
        "### NAMED-ENTITY RECOGNITION (NER)\n",
        "- List of tags: https://towardsdatascience.com/named-entity-recognition-ner-using-spacy-nlp-part-4-28da2ece57c6"
      ]
    },
    {
      "cell_type": "code",
      "execution_count": null,
      "metadata": {
        "id": "xDHnDTl2TJO7"
      },
      "outputs": [],
      "source": [
        "text = 'IBM is a US company on information technology. it is located in San Fransisko and revenue in 2018 was approximately 320 billion dollars'"
      ]
    },
    {
      "cell_type": "code",
      "execution_count": null,
      "metadata": {
        "id": "fGs4DNj-TpE-"
      },
      "outputs": [],
      "source": [
        "document = nlp(text)"
      ]
    },
    {
      "cell_type": "code",
      "execution_count": null,
      "metadata": {
        "colab": {
          "base_uri": "https://localhost:8080/"
        },
        "id": "9zxAuXmcTvpE",
        "outputId": "1a87eef6-ffbb-479e-adc4-f9a6dd38ce78"
      },
      "outputs": [
        {
          "output_type": "stream",
          "name": "stdout",
          "text": [
            "IBM ORG\n",
            "US GPE\n",
            "San Fransisko GPE\n",
            "2018 DATE\n",
            "approximately 320 billion dollars MONEY\n"
          ]
        }
      ],
      "source": [
        "for entity in document.ents:\n",
        "  print(entity.text, entity.label_)"
      ]
    },
    {
      "cell_type": "code",
      "execution_count": null,
      "metadata": {
        "colab": {
          "base_uri": "https://localhost:8080/",
          "height": 52
        },
        "id": "cfHdiDE7XsAd",
        "outputId": "dbd85c32-ccc8-4dfc-d787-3427599db2a7"
      },
      "outputs": [
        {
          "output_type": "display_data",
          "data": {
            "text/plain": [
              "<IPython.core.display.HTML object>"
            ],
            "text/html": [
              "<span class=\"tex2jax_ignore\"><div class=\"entities\" style=\"line-height: 2.5; direction: ltr\">\n",
              "<mark class=\"entity\" style=\"background: #7aecec; padding: 0.45em 0.6em; margin: 0 0.25em; line-height: 1; border-radius: 0.35em;\">\n",
              "    IBM\n",
              "    <span style=\"font-size: 0.8em; font-weight: bold; line-height: 1; border-radius: 0.35em; text-transform: uppercase; vertical-align: middle; margin-left: 0.5rem\">ORG</span>\n",
              "</mark>\n",
              " is a \n",
              "<mark class=\"entity\" style=\"background: #feca74; padding: 0.45em 0.6em; margin: 0 0.25em; line-height: 1; border-radius: 0.35em;\">\n",
              "    US\n",
              "    <span style=\"font-size: 0.8em; font-weight: bold; line-height: 1; border-radius: 0.35em; text-transform: uppercase; vertical-align: middle; margin-left: 0.5rem\">GPE</span>\n",
              "</mark>\n",
              " company on information technology. it is located in \n",
              "<mark class=\"entity\" style=\"background: #feca74; padding: 0.45em 0.6em; margin: 0 0.25em; line-height: 1; border-radius: 0.35em;\">\n",
              "    San Fransisko\n",
              "    <span style=\"font-size: 0.8em; font-weight: bold; line-height: 1; border-radius: 0.35em; text-transform: uppercase; vertical-align: middle; margin-left: 0.5rem\">GPE</span>\n",
              "</mark>\n",
              " and revenue in \n",
              "<mark class=\"entity\" style=\"background: #bfe1d9; padding: 0.45em 0.6em; margin: 0 0.25em; line-height: 1; border-radius: 0.35em;\">\n",
              "    2018\n",
              "    <span style=\"font-size: 0.8em; font-weight: bold; line-height: 1; border-radius: 0.35em; text-transform: uppercase; vertical-align: middle; margin-left: 0.5rem\">DATE</span>\n",
              "</mark>\n",
              " was \n",
              "<mark class=\"entity\" style=\"background: #e4e7d2; padding: 0.45em 0.6em; margin: 0 0.25em; line-height: 1; border-radius: 0.35em;\">\n",
              "    approximately 320 billion dollars\n",
              "    <span style=\"font-size: 0.8em; font-weight: bold; line-height: 1; border-radius: 0.35em; text-transform: uppercase; vertical-align: middle; margin-left: 0.5rem\">MONEY</span>\n",
              "</mark>\n",
              "</div></span>"
            ]
          },
          "metadata": {}
        }
      ],
      "source": [
        "from spacy import displacy\n",
        "displacy.render(document, style = 'ent', jupyter=True)"
      ]
    },
    {
      "cell_type": "code",
      "execution_count": null,
      "metadata": {
        "id": "VxNOh8CWN0o4"
      },
      "outputs": [],
      "source": [
        "text = 'Bill Gates was born in Seattle on 1955-10-28 and is the founder of Microsoft'"
      ]
    },
    {
      "cell_type": "code",
      "execution_count": null,
      "metadata": {
        "colab": {
          "base_uri": "https://localhost:8080/"
        },
        "id": "Uxa2YL-DN4jK",
        "outputId": "9dc854cf-fef6-485c-906e-c84eb8fb4ac5"
      },
      "outputs": [
        {
          "output_type": "stream",
          "name": "stdout",
          "text": [
            "Bill Gates PERSON\n",
            "Seattle GPE\n",
            "1955-10-28 DATE\n",
            "Microsoft ORG\n"
          ]
        }
      ],
      "source": [
        "document = nlp(text)\n",
        "for entity in document.ents:\n",
        "  print(entity.text, entity.label_)"
      ]
    },
    {
      "cell_type": "code",
      "execution_count": null,
      "metadata": {
        "colab": {
          "base_uri": "https://localhost:8080/",
          "height": 52
        },
        "id": "jLdxY0jKOJGR",
        "outputId": "93daa31b-8953-44d6-f3fd-d46777742caf"
      },
      "outputs": [
        {
          "output_type": "display_data",
          "data": {
            "text/plain": [
              "<IPython.core.display.HTML object>"
            ],
            "text/html": [
              "<span class=\"tex2jax_ignore\"><div class=\"entities\" style=\"line-height: 2.5; direction: ltr\">\n",
              "<mark class=\"entity\" style=\"background: #aa9cfc; padding: 0.45em 0.6em; margin: 0 0.25em; line-height: 1; border-radius: 0.35em;\">\n",
              "    Bill Gates\n",
              "    <span style=\"font-size: 0.8em; font-weight: bold; line-height: 1; border-radius: 0.35em; text-transform: uppercase; vertical-align: middle; margin-left: 0.5rem\">PERSON</span>\n",
              "</mark>\n",
              " was born in \n",
              "<mark class=\"entity\" style=\"background: #feca74; padding: 0.45em 0.6em; margin: 0 0.25em; line-height: 1; border-radius: 0.35em;\">\n",
              "    Seattle\n",
              "    <span style=\"font-size: 0.8em; font-weight: bold; line-height: 1; border-radius: 0.35em; text-transform: uppercase; vertical-align: middle; margin-left: 0.5rem\">GPE</span>\n",
              "</mark>\n",
              " on \n",
              "<mark class=\"entity\" style=\"background: #bfe1d9; padding: 0.45em 0.6em; margin: 0 0.25em; line-height: 1; border-radius: 0.35em;\">\n",
              "    1955-10-28\n",
              "    <span style=\"font-size: 0.8em; font-weight: bold; line-height: 1; border-radius: 0.35em; text-transform: uppercase; vertical-align: middle; margin-left: 0.5rem\">DATE</span>\n",
              "</mark>\n",
              " and is the founder of \n",
              "<mark class=\"entity\" style=\"background: #7aecec; padding: 0.45em 0.6em; margin: 0 0.25em; line-height: 1; border-radius: 0.35em;\">\n",
              "    Microsoft\n",
              "    <span style=\"font-size: 0.8em; font-weight: bold; line-height: 1; border-radius: 0.35em; text-transform: uppercase; vertical-align: middle; margin-left: 0.5rem\">ORG</span>\n",
              "</mark>\n",
              "</div></span>"
            ]
          },
          "metadata": {}
        }
      ],
      "source": [
        "displacy.render(document, style = 'ent', jupyter=True)"
      ]
    },
    {
      "cell_type": "code",
      "execution_count": null,
      "metadata": {
        "colab": {
          "base_uri": "https://localhost:8080/"
        },
        "id": "mdkQpP6yOM4s",
        "outputId": "a3e27813-3949-4ab2-8dbf-8c3fabe319e7"
      },
      "outputs": [
        {
          "output_type": "stream",
          "name": "stdout",
          "text": [
            "Bill Gates\n"
          ]
        }
      ],
      "source": [
        "for entity in document.ents:\n",
        "  if entity.label_ == 'PERSON':\n",
        "    print(entity.text)"
      ]
    },
    {
      "cell_type": "markdown",
      "metadata": {
        "id": "-HNiuL7Rf7wX"
      },
      "source": [
        "### STOP WORDS"
      ]
    },
    {
      "cell_type": "markdown",
      "metadata": {
        "id": "V_CsI5tGgEbA"
      },
      "source": [
        "kata yang sering muncul dan tidak memberikan informasi apupun dalam memahami konteks kalimat"
      ]
    },
    {
      "cell_type": "code",
      "execution_count": null,
      "metadata": {
        "colab": {
          "base_uri": "https://localhost:8080/"
        },
        "id": "Jp8gUGRmglbY",
        "outputId": "7098580e-36b8-482b-d5d2-c72eb9cff989"
      },
      "outputs": [
        {
          "output_type": "stream",
          "name": "stdout",
          "text": [
            "{'almost', 'both', 'last', 'next', 'six', 'fifty', 'further', 'under', 'anyone', 'than', 'again', 'whoever', 'something', 'out', 'part', \"n't\", 'anything', \"'m\", 'rather', 'whether', 'sometime', 'i', 'unless', 'all', 'over', 'thru', 'will', \"'ve\", 'themselves', 'hereby', 'whereby', 'several', 'else', 'with', 'you', 'show', 'two', '‘m', 'yet', 'our', '‘ll', 'nobody', 'myself', 'no', 'for', 'if', 'already', 'been', 'less', 'three', 'more', 'my', 'thereupon', 'their', 'never', 'when', 'just', 'become', 'may', 'other', 'latterly', 'often', 'ten', 'elsewhere', 'below', 'it', 'quite', 'though', 'ca', 'really', 'must', 'onto', 'which', 'done', 'he', 'as', 'such', 'across', 'once', 'perhaps', 'mostly', 'was', 'alone', 'everyone', 'whenever', 'are', 'or', 'whom', 'name', 'during', '’re', 'back', 'whence', 'everywhere', 'hereupon', 'being', 'former', 'sixty', 'nine', 'against', 'top', 'and', 'also', 'say', 'she', 'whatever', 'would', 'anywhere', 'herein', 'the', '‘ve', 'meanwhile', 'they', 'very', 'because', 'among', 'sometimes', 'call', 'much', 'amongst', 'give', 'within', 'well', 'but', 'until', 'formerly', 'wherever', 'herself', 'however', 'get', 'namely', 'becoming', 'am', 'one', 'beyond', 'became', '’s', 'made', 'nevertheless', 'might', 'neither', 'do', 'thus', 'off', 'first', 'many', 'take', 'this', 'so', '’d', 'ever', 'twenty', 'empty', 'indeed', 'others', 'each', 'while', 'himself', 'where', 'could', 'every', 'whereafter', 'forty', 'above', 'on', 'ours', 'hence', 'doing', 'about', 'moreover', 'should', 'hers', 'hereafter', 'upon', 'some', 'n’t', 'most', 'without', 'otherwise', 'even', 'move', 'whereupon', 'cannot', 'a', 'wherein', '‘d', 'into', 'along', '‘s', 'from', 'anyway', 'please', 'therefore', 'we', 'what', 'by', 'any', 'around', 'down', 'anyhow', 'her', 'make', 'regarding', 'seemed', 'n‘t', 'whereas', 'between', 'see', 'seeming', 'in', 'mine', \"'s\", 'always', 'another', 'itself', 'using', \"'d\", 'everything', 'seem', 'none', 'me', 'of', 'now', 'except', 'becomes', 'at', 'after', 'is', 'your', 'beside', 'before', '’ve', 'latter', 'serious', 'thence', 'eleven', 'towards', 'behind', 'per', 'therein', 'yourselves', 'same', 'fifteen', 'not', 'afterwards', 'through', 'whose', 'had', 'ourselves', 'who', 'someone', 'be', 'side', 'full', 'nothing', 'to', 'why', 'yours', 'few', 'nor', 'hundred', 'somewhere', 'whole', 'does', 'although', 'his', 'amount', 'him', 'twelve', 'only', 'via', \"'ll\", 'whither', 'them', 'beforehand', 'front', 'due', 'own', 'us', 'too', 'somehow', '’m', 'has', 'an', 'then', 'how', 'toward', 'used', 'did', 'those', 'its', 'least', 'up', 'besides', 'third', 'seems', 'enough', 'thereafter', 'can', 'go', 're', 'yourself', '‘re', 'there', 'five', 'thereby', 'still', 'here', 'have', 'various', 'together', 'that', \"'re\", 'were', 'since', 'either', 'keep', 'noone', 'bottom', 'eight', 'put', 'throughout', '’ll', 'nowhere', 'four', 'these'}\n"
          ]
        }
      ],
      "source": [
        "from spacy.lang.en.stop_words import STOP_WORDS\n",
        "print(STOP_WORDS)"
      ]
    },
    {
      "cell_type": "code",
      "execution_count": null,
      "metadata": {
        "colab": {
          "base_uri": "https://localhost:8080/"
        },
        "id": "99VmD3ksg3dR",
        "outputId": "f452ae91-4f20-4d44-ca35-8794a0167620"
      },
      "outputs": [
        {
          "output_type": "stream",
          "name": "stdout",
          "text": [
            "{'luar', 'jumlahnya', 'terjadi', 'entah', 'bertutur', 'memberikan', 'sekali', 'rasanya', 'satu', 'tersebutlah', 'tertuju', 'semasih', 'jelas', 'sini', 'menyangkut', 'seperti', 'balik', 'perlunya', 'masalahnya', 'dan', 'persoalan', 'meyakini', 'terdahulu', 'sebagian', 'berlalu', 'sekalian', 'waktu', 'jauh', 'ditambahkan', 'diperkirakan', 'inginkan', 'soalnya', 'tutur', 'terdiri', 'sebaik', 'sedemikian', 'sambil', 'beri', 'hendaknya', 'sedangkan', 'katakanlah', 'diakhirinya', 'dimintai', 'kalaulah', 'atau', 'masa', 'kalau', 'menginginkan', 'dirinya', 'paling', 'dari', 'setiap', 'mulai', 'inilah', 'ke', 'kira', 'pantas', 'mungkinkah', 'karenanya', 'dong', 'sebaik-baiknya', 'tinggi', 'hari', 'bermacam', 'berakhirlah', 'berlangsung', 'dituturkan', 'semuanya', 'kelamaan', 'akankah', 'mengatakannya', 'suatu', 'agak', 'siap', 'dikarenakan', 'bermacam-macam', 'tandas', 'terus', 'memihak', 'seusai', 'ibu', 'apakah', 'berikutnya', 'memang', 'dimulai', 'usah', 'berujar', 'pihak', 'tegasnya', 'bisakah', 'merasa', 'sesampai', 'seseorang', 'berarti', 'dimaksud', 'merekalah', 'sesuatunya', 'besar', 'disebutkan', 'menaiki', 'tahun', 'disebutkannya', 'demikianlah', 'mula', 'diperlukan', 'sudahkah', 'pula', 'ditujukan', 'melakukan', 'bagaimanapun', 'kala', 'kinilah', 'kemungkinan', 'sebisanya', 'seperlunya', 'percuma', 'belakangan', 'namun', 'beginikah', 'sampai', 'mempersiapkan', 'semula', 'sesekali', 'serupa', 'umum', 'ternyata', 'menyebutkan', 'sedikitnya', 'tadinya', 'kata', 'lanjutnya', 'ucapnya', 'disampaikan', 'pasti', 'cukup', 'sedikit', 'adapun', 'dia', 'bersama-sama', 'punya', 'diantara', 'sejauh', 'pertanyaan', 'ditandaskan', 'asalkan', 'lama', 'kitalah', 'betul', 'kelihatan', 'mengenai', 'seolah', 'naik', 'dikatakan', 'nyaris', 'sesaat', 'sendirian', 'didatangkan', 'menghendaki', 'kapankah', 'bakal', 'waduh', 'ia', 'seingat', 'memperbuat', 'padanya', 'diperbuatnya', 'sebuah', 'keinginan', 'teringat-ingat', 'kini', 'diberikannya', 'memperkirakan', 'untuk', 'tidaklah', 'menantikan', 'menunjuki', 'seringnya', 'tanpa', 'menuju', 'katakan', 'berakhir', 'memerlukan', 'adanya', 'sama-sama', 'panjang', 'semakin', 'saat', 'diminta', 'mendapat', 'sekarang', 'yakin', 'anda', 'sering', 'siapapun', 'ini', 'katanya', 'sepertinya', 'dipunyai', 'bulan', 'sebegitu', 'inikah', 'bilakah', 'akulah', 'berdatangan', 'menyeluruh', 'menegaskan', 'daripada', 'pada', 'ditanyai', 'tentang', 'sangat', 'keduanya', 'buat', 'bakalan', 'sampai-sampai', 'kemungkinannya', 'diibaratkannya', 'amatlah', 'kembali', 'dilakukan', 'sajalah', 'mengatakan', 'dilihat', 'bersiap', 'sana', 'ditunjukkannya', 'antaranya', 'hal', 'inginkah', 'beberapa', 'kelima', 'manalagi', 'seluruh', 'mana', 'sekecil', 'mendatangkan', 'pihaknya', 'usai', 'bahwa', 'lanjut', 'cukupkah', 'ingin', 'sekadar', 'bukannya', 'atas', 'kiranya', 'saja', 'sekurangnya', 'setengah', 'diakhiri', 'dimaksudnya', 'mengibaratkan', 'bisa', 'harus', 'kedua', 'ditunjuk', 'tadi', 'dialah', 'keseluruhan', 'antar', 'masalah', 'bung', 'sebegini', 'dikatakannya', 'seketika', 'disini', 'supaya', 'dapat', 'diri', 'nyatanya', 'sepihak', 'belumlah', 'cuma', 'semua', 'soal', 'dimaksudkan', 'memberi', 'tanyanya', 'terkira', 'antara', 'diibaratkan', 'lagi', 'sebagainya', 'akhiri', 'pun', 'hendaklah', 'menyatakan', 'sejenak', 'selanjutnya', 'tampaknya', 'ialah', 'diingat', 'datang', 'kalaupun', 'saling', 'seenaknya', 'termasuk', 'wahai', 'bolehlah', 'sudahlah', 'bertanya-tanya', 'sangatlah', 'saya', 'berapa', 'sepanjang', 'tandasnya', 'hampir', 'ibaratkan', 'artinya', 'dijawab', 'kapanpun', 'dimulailah', 'berlainan', 'setibanya', 'sebab', 'dimulainya', 'mempunyai', 'tambahnya', 'tepat', 'setempat', 'misalkan', 'perlu', 'akan', 'ditunjuki', 'depan', 'seterusnya', 'tuturnya', 'sendirinya', 'mampu', 'kamilah', 'dimungkinkan', 'kasus', 'berapapun', 'diberi', 'sesuatu', 'tahu', 'caranya', 'kebetulan', 'dalam', 'melihat', 'ditegaskan', 'sudah', 'mempersoalkan', 'sesegera', 'oleh', 'ataukah', 'adalah', 'kamu', 'menunjuknya', 'macam', 'boleh', 'kamulah', 'biasa', 'dua', 'baru', 'kelihatannya', 'kepada', 'teringat', 'tidakkah', 'malahan', 'siapa', 'menambahkan', 'menanyakan', 'tak', 'telah', 'tersampaikan', 'diungkapkan', 'tanyakan', 'sekadarnya', 'meski', 'ungkapnya', 'yaitu', 'itukah', 'mulanya', 'olehnya', 'penting', 'nah', 'sesudahnya', 'menanya', 'lamanya', 'dekat', 'ada', 'sepantasnyalah', 'sekitar', 'kemudian', 'mengingatkan', 'apalagi', 'mempergunakan', 'diketahuinya', 'sebaliknya', 'seberapa', 'umumnya', 'janganlah', 'di', 'pertama-tama', 'itu', 'sebutlah', 'mirip', 'terhadapnya', 'jadi', 'padahal', 'berakhirnya', 'pernah', 'serta', 'semacam', 'perlukah', 'diketahui', 'rasa', 'diingatkan', 'keseluruhannya', 'menjadi', 'berkeinginan', 'membuat', 'wah', 'berupa', 'dilalui', 'bermaksud', 'cara', 'menuturkan', 'pastilah', 'setinggi', 'dikira', 'tetap', 'ungkap', 'sempat', 'seluruhnya', 'sesama', 'sinilah', 'mereka', 'menunjukkan', 'berikan', 'lain', 'nantinya', 'diperbuat', 'kalian', 'tiap', 'berapalah', 'apa', 'menanti-nanti', 'saatnya', 'tunjuk', 'rupanya', 'ibaratnya', 'diinginkan', 'berkenaan', 'enggaknya', 'dimisalkan', 'lima', 'tentu', 'sebagaimana', 'yang', 'kapan', 'diperlukannya', 'benarlah', 'berkali-kali', 'jikalau', 'meminta', 'memungkinkan', 'memisalkan', 'para', 'lewat', 'sebelum', 'keadaan', 'bawah', 'ingat-ingat', 'jadinya', 'mendapatkan', 'kok', 'sayalah', 'secara', 'bila', 'semasa', 'minta', 'demi', 'berapakah', 'lah', 'terbanyak', 'dijelaskan', 'sewaktu', 'maka', 'tengah', 'seolah-olah', 'diucapkan', 'ditanya', 'begini', 'apaan', 'andalah', 'bagaimana', 'dibuat', 'jadilah', 'tiga', 'sebut', 'keluar', 'mungkin', 'terjadilah', 'banyak', 'makin', 'sebutnya', 'sepantasnya', 'kecil', 'awalnya', 'bukan', 'dahulu', 'jangan', 'sebetulnya', 'semisalnya', 'mengerjakan', 'belum', 'akhir', 'segera', 'terakhir', 'tiba', 'tidak', 'selamanya', 'lalu', 'selaku', 'menjelaskan', 'mampukah', 'bersiap-siap', 'ditanyakan', 'ketika', 'semata', 'jelaslah', 'hendak', 'begitupun', 'lagian', 'mengucapkan', 'menunjuk', 'sebagai', 'cukuplah', 'entahlah', 'sendiri', 'benar', 'meyakinkan', 'sama', 'diperlihatkan', 'keterlaluan', 'masing', 'ataupun', 'pukul', 'dituturkannya', 'dipertanyakan', 'sampaikan', 'jawab', 'bagi', 'dini', 'gunakan', 'mengetahui', 'ikut', 'makanya', 'berawal', 'begitulah', 'berada', 'berjumlah', 'turut', 'dengan', 'diantaranya', 'melihatnya', 'jangankan', 'pertama', 'rata', 'terlebih', 'hanyalah', 'sebabnya', 'bahwasanya', 'misal', 'mengungkapkan', 'dipastikan', 'belakang', 'mempertanyakan', 'tetapi', 'didapat', 'ditunjukkan', 'jawaban', 'sebenarnya', 'tersebut', 'tentulah', 'setiba', 'masihkah', 'menanti', 'selama', 'wong', 'per', 'dimaksudkannya', 'melalui', 'bukanlah', 'terhadap', 'kepadanya', 'setidak-tidaknya', 'mendatangi', 'menjawab', 'amat', 'enggak', 'sela', 'kami', 'hanya', 'bolehkah', 'bagian', 'misalnya', 'digunakan', 'ingat', 'mengibaratkannya', 'semata-mata', 'memperlihatkan', 'sekitarnya', 'selama-lamanya', 'bagaikan', 'tambah', 'menyampaikan', 'ibarat', 'empat', 'jika', 'beginian', 'masih', 'benarkah', 'justru', 'begitu', 'pertanyakan', 'terjadinya', 'agar', 'kenapa', 'kurang', 'ujar', 'khususnya', 'memintakan', 'berikut', 'seharusnya', 'hingga', 'kan', 'mengapa', 'dipergunakan', 'bapak', 'waktunya', 'manakala', 'menyiapkan', 'demikian', 'se', 'tapi', 'toh', 'jawabnya', 'semisal', 'walau', 'seorang', 'siapakah', 'mau', 'menandaskan', 'disinilah', 'menggunakan', 'pak', 'melainkan', 'lebih', 'berkehendak', 'menurut', 'kesampaian', 'sementara', 'itulah', 'sekiranya', 'maupun', 'tampak', 'memulai', 'malah', 'mengingat', 'setidaknya', 'aku', 'betulkah', 'apatah', 'jelaskan', 'bersama', 'sebelumnya', 'jumlah', 'mengakhiri', 'dulu', 'sedang', 'jelasnya', 'agaknya', 'sekali-kali', 'yakni', 'tentunya', 'terlihat', 'tertentu', 'dipersoalkan', 'bahkan', 'begitukah', 'nanti', 'bertanya', 'terdapat', 'setelah', 'merupakan', 'tegas', 'akhirnya', 'bermula', 'asal', 'berbagai', 'haruslah', 'bekerja', 'karena', 'sebesar', 'menanyai', 'sekurang-kurangnya', 'juga', 'terasa', 'berlebihan', 'apabila', 'harusnya', 'mengira', 'diberikan', 'tiba-tiba', 'walaupun', 'bukankah', 'dikerjakan', 'tanya', 'segala', 'berkata', 'guna', 'dibuatnya', 'bagai', 'disebut', 'semaunya', 'sebaiknya', 'baik', 'diucapkannya', 'awal', 'beginilah', 'biasanya', 'mendatang', 'bagaimanakah', 'ditunjuknya', 'mengucapkannya', 'ucap', 'kita', 'secukupnya', 'berturut', 'berturut-turut', 'sejumlah', 'sekaligus', 'selalu', 'sesudah', 'ujarnya', 'sehingga', 'meskipun', 'tempat', 'semampu', 'lainnya', 'dijelaskannya', 'selain', 'sejak', 'semampunya', 'pentingnya', 'memastikan', 'mulailah', 'sebanyak', 'terutama', 'sekalipun', 'terlalu', 'masing-masing', 'kira-kira', 'segalanya'}\n"
          ]
        }
      ],
      "source": [
        "from spacy.lang.id.stop_words import STOP_WORDS\n",
        "print(STOP_WORDS)"
      ]
    },
    {
      "cell_type": "code",
      "execution_count": null,
      "metadata": {
        "colab": {
          "base_uri": "https://localhost:8080/"
        },
        "id": "jE_tE8-QhF_U",
        "outputId": "363f9cb4-fe76-4885-e1d9-73adb62fe899"
      },
      "outputs": [
        {
          "output_type": "execute_result",
          "data": {
            "text/plain": [
              "True"
            ]
          },
          "metadata": {},
          "execution_count": 28
        }
      ],
      "source": [
        "'dan' in STOP_WORDS"
      ]
    },
    {
      "cell_type": "code",
      "execution_count": null,
      "metadata": {
        "colab": {
          "base_uri": "https://localhost:8080/"
        },
        "id": "TQcGIpxkhMDc",
        "outputId": "c70afc50-8379-485c-8073-1550a811160a"
      },
      "outputs": [
        {
          "output_type": "execute_result",
          "data": {
            "text/plain": [
              "757"
            ]
          },
          "metadata": {},
          "execution_count": 29
        }
      ],
      "source": [
        "len(STOP_WORDS)"
      ]
    },
    {
      "cell_type": "code",
      "execution_count": null,
      "metadata": {
        "colab": {
          "base_uri": "https://localhost:8080/"
        },
        "id": "UtUKC1PMhQ-l",
        "outputId": "79c8f617-6cf2-45cd-8061-f7e772d51836"
      },
      "outputs": [
        {
          "output_type": "execute_result",
          "data": {
            "text/plain": [
              "True"
            ]
          },
          "metadata": {},
          "execution_count": 30
        }
      ],
      "source": [
        "nlp.vocab['it'].is_stop"
      ]
    },
    {
      "cell_type": "code",
      "execution_count": null,
      "metadata": {
        "id": "x7vDP93Ji_7z"
      },
      "outputs": [],
      "source": [
        "document = nlp('i am learning natural language processing. the course is in london')"
      ]
    },
    {
      "cell_type": "code",
      "execution_count": null,
      "metadata": {
        "colab": {
          "base_uri": "https://localhost:8080/"
        },
        "id": "8ywO_fyojEpq",
        "outputId": "b19c9b9e-550d-454b-d7ef-395f3195bda1"
      },
      "outputs": [
        {
          "output_type": "stream",
          "name": "stdout",
          "text": [
            "i\n",
            "am\n",
            "the\n",
            "is\n",
            "in\n"
          ]
        }
      ],
      "source": [
        "for token in document:\n",
        "  if nlp.vocab[token.text].is_stop:\n",
        "    print(token.text)"
      ]
    },
    {
      "cell_type": "code",
      "execution_count": null,
      "metadata": {
        "colab": {
          "base_uri": "https://localhost:8080/"
        },
        "id": "Skj0Mh2OjmWJ",
        "outputId": "930541f5-e45a-402e-a481-9e00df46467a"
      },
      "outputs": [
        {
          "output_type": "stream",
          "name": "stdout",
          "text": [
            "learning\n",
            "natural\n",
            "language\n",
            "processing\n",
            ".\n",
            "course\n",
            "london\n"
          ]
        }
      ],
      "source": [
        "for token in document:\n",
        "  if not nlp.vocab[token.text].is_stop:\n",
        "    print(token.text)"
      ]
    },
    {
      "cell_type": "markdown",
      "metadata": {
        "id": "tjlm8jXnjtx9"
      },
      "source": [
        "### DEPENDENCY PARSING"
      ]
    },
    {
      "cell_type": "markdown",
      "metadata": {
        "id": "Z7hBt_MHEXJu"
      },
      "source": [
        "relasi parent-child"
      ]
    },
    {
      "cell_type": "markdown",
      "metadata": {
        "id": "zCzkcXYvjQod"
      },
      "source": [
        "#### Example 1"
      ]
    },
    {
      "cell_type": "code",
      "execution_count": null,
      "metadata": {
        "id": "IKeVbuN2EbuF"
      },
      "outputs": [],
      "source": [
        "document = nlp('book a ticket from London to Paris')"
      ]
    },
    {
      "cell_type": "code",
      "execution_count": null,
      "metadata": {
        "colab": {
          "base_uri": "https://localhost:8080/"
        },
        "id": "K9YtgadcTgFj",
        "outputId": "5d01e5cb-92bc-402f-867f-b85f55a68087"
      },
      "outputs": [
        {
          "output_type": "stream",
          "name": "stdout",
          "text": [
            "London Paris\n"
          ]
        }
      ],
      "source": [
        "origin = document[4]\n",
        "destiny = document[6]\n",
        "print(origin, destiny)"
      ]
    },
    {
      "cell_type": "code",
      "execution_count": null,
      "metadata": {
        "colab": {
          "base_uri": "https://localhost:8080/"
        },
        "id": "5rSskqERUG42",
        "outputId": "9a91db12-beef-410d-df51-34905505d48b"
      },
      "outputs": [
        {
          "output_type": "stream",
          "name": "stdout",
          "text": [
            "London\n",
            "Paris\n"
          ]
        }
      ],
      "source": [
        "for entity in document.ents:\n",
        "  if entity.label_ == 'GPE':\n",
        "    print(entity.text)"
      ]
    },
    {
      "cell_type": "code",
      "execution_count": null,
      "metadata": {
        "colab": {
          "base_uri": "https://localhost:8080/"
        },
        "id": "E_Goq3ExVrNP",
        "outputId": "dd908bf4-d852-4170-89cf-8dbfdf77fa1f"
      },
      "outputs": [
        {
          "output_type": "execute_result",
          "data": {
            "text/plain": [
              "[from, ticket, book]"
            ]
          },
          "metadata": {},
          "execution_count": 37
        }
      ],
      "source": [
        "list(origin.ancestors)"
      ]
    },
    {
      "cell_type": "code",
      "execution_count": null,
      "metadata": {
        "colab": {
          "base_uri": "https://localhost:8080/"
        },
        "id": "rY1oLQ1nfvm8",
        "outputId": "f402001b-f621-4919-8f50-fe4f64511b08"
      },
      "outputs": [
        {
          "output_type": "execute_result",
          "data": {
            "text/plain": [
              "[to, ticket, book]"
            ]
          },
          "metadata": {},
          "execution_count": 38
        }
      ],
      "source": [
        "list(destiny.ancestors)"
      ]
    },
    {
      "cell_type": "code",
      "execution_count": null,
      "metadata": {
        "colab": {
          "base_uri": "https://localhost:8080/"
        },
        "id": "V4XbDcmwipDj",
        "outputId": "bd21328d-7fbc-4946-b4c6-4e9d6e4ec70d"
      },
      "outputs": [
        {
          "output_type": "execute_result",
          "data": {
            "text/plain": [
              "True"
            ]
          },
          "metadata": {},
          "execution_count": 39
        }
      ],
      "source": [
        "document[0].is_ancestor(document[2])"
      ]
    },
    {
      "cell_type": "markdown",
      "metadata": {
        "id": "yBqz2uO9jVir"
      },
      "source": [
        "#### Example 2"
      ]
    },
    {
      "cell_type": "code",
      "execution_count": null,
      "metadata": {
        "id": "VEvvaiChjXse"
      },
      "outputs": [],
      "source": [
        "document = nlp(\"Book a table for the restaurant and a taxi to the hotel\")"
      ]
    },
    {
      "cell_type": "code",
      "execution_count": null,
      "metadata": {
        "colab": {
          "base_uri": "https://localhost:8080/"
        },
        "id": "Ur-PIKG4kP50",
        "outputId": "9939f80a-8bf2-442c-e808-886dd402905e"
      },
      "outputs": [
        {
          "output_type": "stream",
          "name": "stdout",
          "text": [
            "(table, taxi) (restaurant, hotel)\n"
          ]
        }
      ],
      "source": [
        "tasks = document[2], document[8]\n",
        "locations =  document[5], document[11]\n",
        "print(tasks, locations)"
      ]
    },
    {
      "cell_type": "code",
      "execution_count": null,
      "metadata": {
        "colab": {
          "base_uri": "https://localhost:8080/"
        },
        "id": "ma8MdsA5kqRB",
        "outputId": "e1e07113-276b-4d16-e060-0f3363cf856f"
      },
      "outputs": [
        {
          "output_type": "stream",
          "name": "stdout",
          "text": [
            "----- restaurant\n",
            "for\n",
            "table\n",
            "Book\n",
            "----- hotel\n",
            "to\n",
            "Book\n"
          ]
        }
      ],
      "source": [
        "for local in locations:\n",
        "  print('-----', local)\n",
        "  for obj in local.ancestors:\n",
        "    print(obj)"
      ]
    },
    {
      "cell_type": "code",
      "execution_count": null,
      "metadata": {
        "colab": {
          "base_uri": "https://localhost:8080/",
          "height": 338
        },
        "id": "cD4CnAopm4nY",
        "outputId": "0c5cc2cf-7331-456e-eff2-0bff042d6a9a"
      },
      "outputs": [
        {
          "output_type": "display_data",
          "data": {
            "text/plain": [
              "<IPython.core.display.HTML object>"
            ],
            "text/html": [
              "<span class=\"tex2jax_ignore\"><svg xmlns=\"http://www.w3.org/2000/svg\" xmlns:xlink=\"http://www.w3.org/1999/xlink\" xml:lang=\"en\" id=\"b146ddddb1eb4e1fb01c497a986ddfcc-0\" class=\"displacy\" width=\"1130\" height=\"317.0\" direction=\"ltr\" style=\"max-width: none; height: 317.0px; color: #000000; background: #ffffff; font-family: Arial; direction: ltr\">\n",
              "<text class=\"displacy-token\" fill=\"currentColor\" text-anchor=\"middle\" y=\"227.0\">\n",
              "    <tspan class=\"displacy-word\" fill=\"currentColor\" x=\"50\">Book</tspan>\n",
              "    <tspan class=\"displacy-tag\" dy=\"2em\" fill=\"currentColor\" x=\"50\">PROPN</tspan>\n",
              "</text>\n",
              "\n",
              "<text class=\"displacy-token\" fill=\"currentColor\" text-anchor=\"middle\" y=\"227.0\">\n",
              "    <tspan class=\"displacy-word\" fill=\"currentColor\" x=\"140\">a</tspan>\n",
              "    <tspan class=\"displacy-tag\" dy=\"2em\" fill=\"currentColor\" x=\"140\">DET</tspan>\n",
              "</text>\n",
              "\n",
              "<text class=\"displacy-token\" fill=\"currentColor\" text-anchor=\"middle\" y=\"227.0\">\n",
              "    <tspan class=\"displacy-word\" fill=\"currentColor\" x=\"230\">table</tspan>\n",
              "    <tspan class=\"displacy-tag\" dy=\"2em\" fill=\"currentColor\" x=\"230\">NOUN</tspan>\n",
              "</text>\n",
              "\n",
              "<text class=\"displacy-token\" fill=\"currentColor\" text-anchor=\"middle\" y=\"227.0\">\n",
              "    <tspan class=\"displacy-word\" fill=\"currentColor\" x=\"320\">for</tspan>\n",
              "    <tspan class=\"displacy-tag\" dy=\"2em\" fill=\"currentColor\" x=\"320\">ADP</tspan>\n",
              "</text>\n",
              "\n",
              "<text class=\"displacy-token\" fill=\"currentColor\" text-anchor=\"middle\" y=\"227.0\">\n",
              "    <tspan class=\"displacy-word\" fill=\"currentColor\" x=\"410\">the</tspan>\n",
              "    <tspan class=\"displacy-tag\" dy=\"2em\" fill=\"currentColor\" x=\"410\">DET</tspan>\n",
              "</text>\n",
              "\n",
              "<text class=\"displacy-token\" fill=\"currentColor\" text-anchor=\"middle\" y=\"227.0\">\n",
              "    <tspan class=\"displacy-word\" fill=\"currentColor\" x=\"500\">restaurant</tspan>\n",
              "    <tspan class=\"displacy-tag\" dy=\"2em\" fill=\"currentColor\" x=\"500\">NOUN</tspan>\n",
              "</text>\n",
              "\n",
              "<text class=\"displacy-token\" fill=\"currentColor\" text-anchor=\"middle\" y=\"227.0\">\n",
              "    <tspan class=\"displacy-word\" fill=\"currentColor\" x=\"590\">and</tspan>\n",
              "    <tspan class=\"displacy-tag\" dy=\"2em\" fill=\"currentColor\" x=\"590\">CCONJ</tspan>\n",
              "</text>\n",
              "\n",
              "<text class=\"displacy-token\" fill=\"currentColor\" text-anchor=\"middle\" y=\"227.0\">\n",
              "    <tspan class=\"displacy-word\" fill=\"currentColor\" x=\"680\">a</tspan>\n",
              "    <tspan class=\"displacy-tag\" dy=\"2em\" fill=\"currentColor\" x=\"680\">DET</tspan>\n",
              "</text>\n",
              "\n",
              "<text class=\"displacy-token\" fill=\"currentColor\" text-anchor=\"middle\" y=\"227.0\">\n",
              "    <tspan class=\"displacy-word\" fill=\"currentColor\" x=\"770\">taxi</tspan>\n",
              "    <tspan class=\"displacy-tag\" dy=\"2em\" fill=\"currentColor\" x=\"770\">NOUN</tspan>\n",
              "</text>\n",
              "\n",
              "<text class=\"displacy-token\" fill=\"currentColor\" text-anchor=\"middle\" y=\"227.0\">\n",
              "    <tspan class=\"displacy-word\" fill=\"currentColor\" x=\"860\">to</tspan>\n",
              "    <tspan class=\"displacy-tag\" dy=\"2em\" fill=\"currentColor\" x=\"860\">ADP</tspan>\n",
              "</text>\n",
              "\n",
              "<text class=\"displacy-token\" fill=\"currentColor\" text-anchor=\"middle\" y=\"227.0\">\n",
              "    <tspan class=\"displacy-word\" fill=\"currentColor\" x=\"950\">the</tspan>\n",
              "    <tspan class=\"displacy-tag\" dy=\"2em\" fill=\"currentColor\" x=\"950\">DET</tspan>\n",
              "</text>\n",
              "\n",
              "<text class=\"displacy-token\" fill=\"currentColor\" text-anchor=\"middle\" y=\"227.0\">\n",
              "    <tspan class=\"displacy-word\" fill=\"currentColor\" x=\"1040\">hotel</tspan>\n",
              "    <tspan class=\"displacy-tag\" dy=\"2em\" fill=\"currentColor\" x=\"1040\">NOUN</tspan>\n",
              "</text>\n",
              "\n",
              "<g class=\"displacy-arrow\">\n",
              "    <path class=\"displacy-arc\" id=\"arrow-b146ddddb1eb4e1fb01c497a986ddfcc-0-0\" stroke-width=\"2px\" d=\"M160,182.0 C160,137.0 215.0,137.0 215.0,182.0\" fill=\"none\" stroke=\"currentColor\"/>\n",
              "    <text dy=\"1.25em\" style=\"font-size: 0.8em; letter-spacing: 1px\">\n",
              "        <textPath xlink:href=\"#arrow-b146ddddb1eb4e1fb01c497a986ddfcc-0-0\" class=\"displacy-label\" startOffset=\"50%\" side=\"left\" fill=\"currentColor\" text-anchor=\"middle\">det</textPath>\n",
              "    </text>\n",
              "    <path class=\"displacy-arrowhead\" d=\"M160,184.0 L152,172.0 168,172.0\" fill=\"currentColor\"/>\n",
              "</g>\n",
              "\n",
              "<g class=\"displacy-arrow\">\n",
              "    <path class=\"displacy-arc\" id=\"arrow-b146ddddb1eb4e1fb01c497a986ddfcc-0-1\" stroke-width=\"2px\" d=\"M70,182.0 C70,92.0 220.0,92.0 220.0,182.0\" fill=\"none\" stroke=\"currentColor\"/>\n",
              "    <text dy=\"1.25em\" style=\"font-size: 0.8em; letter-spacing: 1px\">\n",
              "        <textPath xlink:href=\"#arrow-b146ddddb1eb4e1fb01c497a986ddfcc-0-1\" class=\"displacy-label\" startOffset=\"50%\" side=\"left\" fill=\"currentColor\" text-anchor=\"middle\">dobj</textPath>\n",
              "    </text>\n",
              "    <path class=\"displacy-arrowhead\" d=\"M220.0,184.0 L228.0,172.0 212.0,172.0\" fill=\"currentColor\"/>\n",
              "</g>\n",
              "\n",
              "<g class=\"displacy-arrow\">\n",
              "    <path class=\"displacy-arc\" id=\"arrow-b146ddddb1eb4e1fb01c497a986ddfcc-0-2\" stroke-width=\"2px\" d=\"M250,182.0 C250,137.0 305.0,137.0 305.0,182.0\" fill=\"none\" stroke=\"currentColor\"/>\n",
              "    <text dy=\"1.25em\" style=\"font-size: 0.8em; letter-spacing: 1px\">\n",
              "        <textPath xlink:href=\"#arrow-b146ddddb1eb4e1fb01c497a986ddfcc-0-2\" class=\"displacy-label\" startOffset=\"50%\" side=\"left\" fill=\"currentColor\" text-anchor=\"middle\">prep</textPath>\n",
              "    </text>\n",
              "    <path class=\"displacy-arrowhead\" d=\"M305.0,184.0 L313.0,172.0 297.0,172.0\" fill=\"currentColor\"/>\n",
              "</g>\n",
              "\n",
              "<g class=\"displacy-arrow\">\n",
              "    <path class=\"displacy-arc\" id=\"arrow-b146ddddb1eb4e1fb01c497a986ddfcc-0-3\" stroke-width=\"2px\" d=\"M430,182.0 C430,137.0 485.0,137.0 485.0,182.0\" fill=\"none\" stroke=\"currentColor\"/>\n",
              "    <text dy=\"1.25em\" style=\"font-size: 0.8em; letter-spacing: 1px\">\n",
              "        <textPath xlink:href=\"#arrow-b146ddddb1eb4e1fb01c497a986ddfcc-0-3\" class=\"displacy-label\" startOffset=\"50%\" side=\"left\" fill=\"currentColor\" text-anchor=\"middle\">det</textPath>\n",
              "    </text>\n",
              "    <path class=\"displacy-arrowhead\" d=\"M430,184.0 L422,172.0 438,172.0\" fill=\"currentColor\"/>\n",
              "</g>\n",
              "\n",
              "<g class=\"displacy-arrow\">\n",
              "    <path class=\"displacy-arc\" id=\"arrow-b146ddddb1eb4e1fb01c497a986ddfcc-0-4\" stroke-width=\"2px\" d=\"M340,182.0 C340,92.0 490.0,92.0 490.0,182.0\" fill=\"none\" stroke=\"currentColor\"/>\n",
              "    <text dy=\"1.25em\" style=\"font-size: 0.8em; letter-spacing: 1px\">\n",
              "        <textPath xlink:href=\"#arrow-b146ddddb1eb4e1fb01c497a986ddfcc-0-4\" class=\"displacy-label\" startOffset=\"50%\" side=\"left\" fill=\"currentColor\" text-anchor=\"middle\">pobj</textPath>\n",
              "    </text>\n",
              "    <path class=\"displacy-arrowhead\" d=\"M490.0,184.0 L498.0,172.0 482.0,172.0\" fill=\"currentColor\"/>\n",
              "</g>\n",
              "\n",
              "<g class=\"displacy-arrow\">\n",
              "    <path class=\"displacy-arc\" id=\"arrow-b146ddddb1eb4e1fb01c497a986ddfcc-0-5\" stroke-width=\"2px\" d=\"M520,182.0 C520,137.0 575.0,137.0 575.0,182.0\" fill=\"none\" stroke=\"currentColor\"/>\n",
              "    <text dy=\"1.25em\" style=\"font-size: 0.8em; letter-spacing: 1px\">\n",
              "        <textPath xlink:href=\"#arrow-b146ddddb1eb4e1fb01c497a986ddfcc-0-5\" class=\"displacy-label\" startOffset=\"50%\" side=\"left\" fill=\"currentColor\" text-anchor=\"middle\">cc</textPath>\n",
              "    </text>\n",
              "    <path class=\"displacy-arrowhead\" d=\"M575.0,184.0 L583.0,172.0 567.0,172.0\" fill=\"currentColor\"/>\n",
              "</g>\n",
              "\n",
              "<g class=\"displacy-arrow\">\n",
              "    <path class=\"displacy-arc\" id=\"arrow-b146ddddb1eb4e1fb01c497a986ddfcc-0-6\" stroke-width=\"2px\" d=\"M700,182.0 C700,137.0 755.0,137.0 755.0,182.0\" fill=\"none\" stroke=\"currentColor\"/>\n",
              "    <text dy=\"1.25em\" style=\"font-size: 0.8em; letter-spacing: 1px\">\n",
              "        <textPath xlink:href=\"#arrow-b146ddddb1eb4e1fb01c497a986ddfcc-0-6\" class=\"displacy-label\" startOffset=\"50%\" side=\"left\" fill=\"currentColor\" text-anchor=\"middle\">det</textPath>\n",
              "    </text>\n",
              "    <path class=\"displacy-arrowhead\" d=\"M700,184.0 L692,172.0 708,172.0\" fill=\"currentColor\"/>\n",
              "</g>\n",
              "\n",
              "<g class=\"displacy-arrow\">\n",
              "    <path class=\"displacy-arc\" id=\"arrow-b146ddddb1eb4e1fb01c497a986ddfcc-0-7\" stroke-width=\"2px\" d=\"M520,182.0 C520,47.0 765.0,47.0 765.0,182.0\" fill=\"none\" stroke=\"currentColor\"/>\n",
              "    <text dy=\"1.25em\" style=\"font-size: 0.8em; letter-spacing: 1px\">\n",
              "        <textPath xlink:href=\"#arrow-b146ddddb1eb4e1fb01c497a986ddfcc-0-7\" class=\"displacy-label\" startOffset=\"50%\" side=\"left\" fill=\"currentColor\" text-anchor=\"middle\">conj</textPath>\n",
              "    </text>\n",
              "    <path class=\"displacy-arrowhead\" d=\"M765.0,184.0 L773.0,172.0 757.0,172.0\" fill=\"currentColor\"/>\n",
              "</g>\n",
              "\n",
              "<g class=\"displacy-arrow\">\n",
              "    <path class=\"displacy-arc\" id=\"arrow-b146ddddb1eb4e1fb01c497a986ddfcc-0-8\" stroke-width=\"2px\" d=\"M70,182.0 C70,2.0 860.0,2.0 860.0,182.0\" fill=\"none\" stroke=\"currentColor\"/>\n",
              "    <text dy=\"1.25em\" style=\"font-size: 0.8em; letter-spacing: 1px\">\n",
              "        <textPath xlink:href=\"#arrow-b146ddddb1eb4e1fb01c497a986ddfcc-0-8\" class=\"displacy-label\" startOffset=\"50%\" side=\"left\" fill=\"currentColor\" text-anchor=\"middle\">prep</textPath>\n",
              "    </text>\n",
              "    <path class=\"displacy-arrowhead\" d=\"M860.0,184.0 L868.0,172.0 852.0,172.0\" fill=\"currentColor\"/>\n",
              "</g>\n",
              "\n",
              "<g class=\"displacy-arrow\">\n",
              "    <path class=\"displacy-arc\" id=\"arrow-b146ddddb1eb4e1fb01c497a986ddfcc-0-9\" stroke-width=\"2px\" d=\"M970,182.0 C970,137.0 1025.0,137.0 1025.0,182.0\" fill=\"none\" stroke=\"currentColor\"/>\n",
              "    <text dy=\"1.25em\" style=\"font-size: 0.8em; letter-spacing: 1px\">\n",
              "        <textPath xlink:href=\"#arrow-b146ddddb1eb4e1fb01c497a986ddfcc-0-9\" class=\"displacy-label\" startOffset=\"50%\" side=\"left\" fill=\"currentColor\" text-anchor=\"middle\">det</textPath>\n",
              "    </text>\n",
              "    <path class=\"displacy-arrowhead\" d=\"M970,184.0 L962,172.0 978,172.0\" fill=\"currentColor\"/>\n",
              "</g>\n",
              "\n",
              "<g class=\"displacy-arrow\">\n",
              "    <path class=\"displacy-arc\" id=\"arrow-b146ddddb1eb4e1fb01c497a986ddfcc-0-10\" stroke-width=\"2px\" d=\"M880,182.0 C880,92.0 1030.0,92.0 1030.0,182.0\" fill=\"none\" stroke=\"currentColor\"/>\n",
              "    <text dy=\"1.25em\" style=\"font-size: 0.8em; letter-spacing: 1px\">\n",
              "        <textPath xlink:href=\"#arrow-b146ddddb1eb4e1fb01c497a986ddfcc-0-10\" class=\"displacy-label\" startOffset=\"50%\" side=\"left\" fill=\"currentColor\" text-anchor=\"middle\">pobj</textPath>\n",
              "    </text>\n",
              "    <path class=\"displacy-arrowhead\" d=\"M1030.0,184.0 L1038.0,172.0 1022.0,172.0\" fill=\"currentColor\"/>\n",
              "</g>\n",
              "</svg></span>"
            ]
          },
          "metadata": {}
        }
      ],
      "source": [
        "displacy.render(document, style = 'dep', jupyter=True, options={'distance': 90})"
      ]
    },
    {
      "cell_type": "markdown",
      "source": [
        "### WORLD SIMILARITY"
      ],
      "metadata": {
        "id": "ewYSmpY6yrL9"
      }
    },
    {
      "cell_type": "code",
      "source": [
        "w1 = nlp('hi')\n",
        "w2 = nlp('hello')\n",
        "w3 = nlp('hey')\n",
        "w4 = nlp('stop')"
      ],
      "metadata": {
        "id": "xFmSDcfhzFj-"
      },
      "execution_count": null,
      "outputs": []
    },
    {
      "cell_type": "code",
      "source": [
        "w1.similarity(w2)"
      ],
      "metadata": {
        "colab": {
          "base_uri": "https://localhost:8080/"
        },
        "id": "w7S9WV9IzS84",
        "outputId": "f6a0e367-343c-4042-869a-17b784db0e54"
      },
      "execution_count": null,
      "outputs": [
        {
          "output_type": "stream",
          "name": "stderr",
          "text": [
            "/usr/lib/python3.7/runpy.py:193: ModelsWarning: [W007] The model you're using has no word vectors loaded, so the result of the Doc.similarity method will be based on the tagger, parser and NER, which may not give useful similarity judgements. This may happen if you're using one of the small models, e.g. `en_core_web_sm`, which don't ship with word vectors and only use context-sensitive tensors. You can always add your own word vectors, or use one of the larger models instead if available.\n",
            "  \"__main__\", mod_spec)\n"
          ]
        },
        {
          "output_type": "execute_result",
          "data": {
            "text/plain": [
              "0.718274374933058"
            ]
          },
          "metadata": {},
          "execution_count": 45
        }
      ]
    },
    {
      "cell_type": "code",
      "source": [
        "w1.similarity(w3)"
      ],
      "metadata": {
        "colab": {
          "base_uri": "https://localhost:8080/"
        },
        "id": "FmYxCPDJzT51",
        "outputId": "3ccb5ab5-bbfb-40fe-e60c-0530e1eaf50f"
      },
      "execution_count": null,
      "outputs": [
        {
          "output_type": "stream",
          "name": "stderr",
          "text": [
            "/usr/lib/python3.7/runpy.py:193: ModelsWarning: [W007] The model you're using has no word vectors loaded, so the result of the Doc.similarity method will be based on the tagger, parser and NER, which may not give useful similarity judgements. This may happen if you're using one of the small models, e.g. `en_core_web_sm`, which don't ship with word vectors and only use context-sensitive tensors. You can always add your own word vectors, or use one of the larger models instead if available.\n",
            "  \"__main__\", mod_spec)\n"
          ]
        },
        {
          "output_type": "execute_result",
          "data": {
            "text/plain": [
              "0.7394632387600851"
            ]
          },
          "metadata": {},
          "execution_count": 48
        }
      ]
    },
    {
      "cell_type": "code",
      "source": [
        "w1.similarity(w4)"
      ],
      "metadata": {
        "colab": {
          "base_uri": "https://localhost:8080/"
        },
        "id": "69JkkOq9zZKa",
        "outputId": "5d31cf71-859e-4541-db35-993a2b017d90"
      },
      "execution_count": null,
      "outputs": [
        {
          "output_type": "stream",
          "name": "stderr",
          "text": [
            "/usr/lib/python3.7/runpy.py:193: ModelsWarning: [W007] The model you're using has no word vectors loaded, so the result of the Doc.similarity method will be based on the tagger, parser and NER, which may not give useful similarity judgements. This may happen if you're using one of the small models, e.g. `en_core_web_sm`, which don't ship with word vectors and only use context-sensitive tensors. You can always add your own word vectors, or use one of the larger models instead if available.\n",
            "  \"__main__\", mod_spec)\n"
          ]
        },
        {
          "output_type": "execute_result",
          "data": {
            "text/plain": [
              "0.32841440025588475"
            ]
          },
          "metadata": {},
          "execution_count": 54
        }
      ]
    },
    {
      "cell_type": "code",
      "source": [
        "w2.similarity(w4)"
      ],
      "metadata": {
        "colab": {
          "base_uri": "https://localhost:8080/"
        },
        "id": "e_Bp-p3Ozc2E",
        "outputId": "47cd6caf-22d0-415a-d8e3-f6407419bc44"
      },
      "execution_count": null,
      "outputs": [
        {
          "output_type": "stream",
          "name": "stderr",
          "text": [
            "/usr/lib/python3.7/runpy.py:193: ModelsWarning: [W007] The model you're using has no word vectors loaded, so the result of the Doc.similarity method will be based on the tagger, parser and NER, which may not give useful similarity judgements. This may happen if you're using one of the small models, e.g. `en_core_web_sm`, which don't ship with word vectors and only use context-sensitive tensors. You can always add your own word vectors, or use one of the larger models instead if available.\n",
            "  \"__main__\", mod_spec)\n"
          ]
        },
        {
          "output_type": "execute_result",
          "data": {
            "text/plain": [
              "0.3951331075633348"
            ]
          },
          "metadata": {},
          "execution_count": 55
        }
      ]
    }
  ],
  "metadata": {
    "colab": {
      "collapsed_sections": [],
      "name": "NLP_basic2.ipynb",
      "provenance": []
    },
    "kernelspec": {
      "display_name": "Python 3",
      "name": "python3"
    },
    "language_info": {
      "name": "python"
    }
  },
  "nbformat": 4,
  "nbformat_minor": 0
}